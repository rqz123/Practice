{
 "cells": [
  {
   "cell_type": "code",
   "execution_count": 22,
   "metadata": {},
   "outputs": [],
   "source": [
    "import numpy as np\n",
    "\n",
    "%matplotlib inline\n",
    "from matplotlib import pyplot as plt\n",
    "from sklearn import datasets\n",
    "from sklearn.metrics import accuracy_score\n",
    "from sklearn.model_selection import train_test_split"
   ]
  },
  {
   "cell_type": "markdown",
   "metadata": {},
   "source": [
    "## Exercise 4.7: $k$-nearest neighbors\n",
    "\n",
    "In this exercise, you will implement $k$-nearest neighbors from scratch. This means you're allowed to use whatever `numpy` routines you would like, but you cannot use `sklearn.neighbors.KNeighborsClassifier`. \n",
    "\n",
    "### Part (a): Implementation\n",
    "\n",
    "Complete the function `kNN()` below. The function takes in:\n",
    "* a 2D array of training vectors `X_train`, where `X_train[i]` denotes the ith vector and `X_train[i,j]` denotes the jth entry of the ith vector;\n",
    "* a collection of training labels `y_train` where `y_train[i]` is the correct label for `X_train[i]`;\n",
    "* a 2D array of unlabelled vectors `X_test`\n",
    "* a parameter `p` $\\geq 1$ that denotes the $\\ell^p$ norm to use for $k$-nearest neighbors\n",
    "* the number of neighbors `k`\n",
    "* a boolean `weighted`, where we compute weighted $k$-nearest neighbors if `weighted == True` and unweighted otherwise.\n",
    "\n",
    "The function returns the predicted labels for `X_test`.\n",
    "\n",
    "You are welcome (encouraged, in fact!) to write helper functions."
   ]
  },
  {
   "cell_type": "code",
   "execution_count": 23,
   "metadata": {},
   "outputs": [],
   "source": [
    "def distance(vectorA, vectorB, p):\n",
    "    return np.sum(abs(vectorA - vectorB) ** p) ** (1/p)"
   ]
  },
  {
   "cell_type": "code",
   "execution_count": 24,
   "metadata": {},
   "outputs": [],
   "source": [
    "def get_label(smallest_distances, weighted):\n",
    "    labels_possible = smallest_distances[:, 1].max() + 1\n",
    "    scores = np.zeros(int(labels_possible))\n",
    "    \n",
    "    for dist, label in smallest_distances:\n",
    "        label = int(label)\n",
    "        if (weighted):\n",
    "            if (dist == 0):\n",
    "                scores[label] += 1 # avoid dividing by zero\n",
    "            else:\n",
    "                scores[label] += 1/dist\n",
    "        else:\n",
    "            scores[label] += 1\n",
    "            \n",
    "    best_label = scores.argmax()\n",
    "    return best_label"
   ]
  },
  {
   "cell_type": "code",
   "execution_count": 25,
   "metadata": {},
   "outputs": [],
   "source": [
    "def kNN(X_train, y_train, X_test, p, k, weighted):\n",
    "    # your code here...\n",
    "    y_test = []\n",
    "\n",
    "    for data_vector in X_test:\n",
    "        distances = []\n",
    "        for i in range(len(X_train)):\n",
    "            dist = distance(data_vector, X_train[i], p)\n",
    "            distances.append([dist, y_train[i]])\n",
    "\n",
    "        distances = np.array(sorted(distances, key=lambda x: x[0])) # sort based on distances\n",
    "        smallest_distances = distances[:k] # get k smallest distances + their respective labels\n",
    "\n",
    "        label = get_label(smallest_distances, weighted)\n",
    "        y_test.append(label)\n",
    "\n",
    "    return y_test"
   ]
  },
  {
   "cell_type": "markdown",
   "metadata": {},
   "source": [
    "### Part (b): Testing it on the Iris dataset\n",
    "\n",
    "Now you will test your classifier on the Iris dataset (you can read more about it here: https://en.wikipedia.org/wiki/Iris_flower_data_set). Try out various methods for `k`, `p`, and `weighted` (note that you can approximate the $\\ell^\\infty$ norm by setting `p = 100` or some other large number). What works best? Plot your results and come up with some conclusions. What sort of performance do you get? You can measure the performance by simply computing what proportion of the testing data is labelled correctly; you can use `sklearn.metrics.accuracy_score` for this."
   ]
  },
  {
   "cell_type": "code",
   "execution_count": 26,
   "metadata": {},
   "outputs": [
    {
     "name": "stdout",
     "output_type": "stream",
     "text": [
      "The best accuracy: 1.0, k: 5, p: 5, weight: True\n"
     ]
    },
    {
     "data": {
      "image/png": "[encoded data removed]",
      "text/plain": [
       "<Figure size 432x288 with 2 Axes>"
      ]
     },
     "metadata": {
      "needs_background": "light"
     },
     "output_type": "display_data"
    }
   ],
   "source": [
    "# load the data...\n",
    "iris = datasets.load_iris()\n",
    "X = iris.data\n",
    "y = iris.target\n",
    "\n",
    "# split into training and testing sets with 100 training points and 50 testing points\n",
    "X_train, X_test, y_train, y_test = train_test_split(X, y, test_size = 50, random_state = 42)\n",
    "\n",
    "k_values = [1, 3, 5, 7, 9, 11, 21]\n",
    "p_values = [1, 2, 3, 5, 10, 100] # you can approximate the  ℓ∞  norm by setting p = 100 or some other large number\n",
    "weighted_values = [True, False]\n",
    "\n",
    "plt.title(\"K-Nearest Neighbors\")\n",
    "plt.xlabel(\"X values\")\n",
    "plt.ylabel(\"Y values\")\n",
    "\n",
    "# get best parameters\n",
    "best_accuracy = 0\n",
    "best_k = 0\n",
    "best_p = 0\n",
    "best_weight = False\n",
    "for k in k_values:\n",
    "    for p in p_values:\n",
    "        for weight in weighted_values:\n",
    "\n",
    "            predictions = kNN(X_train, y_train, X_test, p, k, weight)\n",
    "            accuracy = accuracy_score(y_test, predictions)\n",
    "\n",
    "            if (accuracy > best_accuracy):\n",
    "                best_accuracy = accuracy\n",
    "                best_k = k\n",
    "                best_p = p\n",
    "                best_weight = weight\n",
    "\n",
    "print(f\"The best accuracy: {best_accuracy}, k: {best_k}, p: {best_p}, weight: {best_weight}\")\n",
    "\n",
    "# plot accuracy when only k changes while the other parameters are the 'best' parameters\n",
    "accuracies = []\n",
    "for k in k_values:\n",
    "    predictions = kNN(X_train, y_train, X_test, best_p, k, best_weight)\n",
    "    accuracy = accuracy_score(y_test, predictions)\n",
    "    accuracies.append(accuracy)\n",
    "\n",
    "plt.subplot(1, 2, 1)\n",
    "plt.title(\"Accuracy in respect to K\")\n",
    "plt.xlabel(\"K values\")\n",
    "plt.ylabel(\"Accuracy\")\n",
    "plt.plot(k_values, accuracies)\n",
    "\n",
    "# plot accuracy when only p changes while the other parameters are the 'best' parameters\n",
    "accuracies = []\n",
    "for p in p_values:\n",
    "    predictions = kNN(X_train, y_train, X_test, p, best_k, best_weight)\n",
    "    accuracy = accuracy_score(y_test, predictions)\n",
    "    accuracies.append(accuracy)\n",
    "\n",
    "plt.subplot(1, 2, 2)\n",
    "plt.title(\"Accuracy in respect to P\")\n",
    "plt.xlabel(\"P values\")\n",
    "plt.ylabel(\"Accuracy\")\n",
    "plt.plot(p_values, accuracies)\n",
    "\n",
    "plt.show()"
   ]
  },
  {
   "cell_type": "markdown",
   "metadata": {},
   "source": [
    "We found that we can reach extremely high accuracy (good performance) on the IRIS dataset with K nearest neighbors even with sub-optimal parameters k and p. However, there is a slight tendency for the accuracy to be perfect (100% accuracy) with higher values of K, which makes sense because each test point would compare to more points, thus get a better sense of its"
   ]
  },
  {
   "cell_type": "markdown",
   "metadata": {},
   "source": [
    "# Exercise 5.4: $k$-means clustering\n",
    "\n",
    "The MNIST databasste is a very famous database consisting of images of handwritten digits, used as a standard benchmark for a variety of image processing tasks. The database consists of 1797 $8\\times 8$ grayscale images of digits, each flattened into a vector of length 64. Let's load the data and visualize some of the data."
   ]
  },
  {
   "cell_type": "code",
   "execution_count": 27,
   "metadata": {},
   "outputs": [
    {
     "data": {
      "text/plain": [
       "(1797, 64)"
      ]
     },
     "execution_count": 27,
     "metadata": {},
     "output_type": "execute_result"
    }
   ],
   "source": [
    "X, y = datasets.load_digits(return_X_y = True)\n",
    "X = X/np.max(X) # do some normalizing\n",
    "X.shape"
   ]
  },
  {
   "cell_type": "code",
   "execution_count": 28,
   "metadata": {},
   "outputs": [],
   "source": [
    "def visualize_digit(X, y, k):\n",
    "    '''\n",
    "    Plot a digit from the MNIST database and print its label.\n",
    "    INPUTS:\n",
    "        X: digits in the MNIST database\n",
    "        y: labels in the MNIST database\n",
    "        k: the index of the datapoint you wish to visualize\n",
    "    '''\n",
    "    if type(k) != int:\n",
    "        print(\"k must be supplied as integer!\")\n",
    "        return -1\n",
    "    \n",
    "    if k < 0 or k >= X.shape[0]:\n",
    "        print(\"index k is out of bounds, must be between 0 and 1796!\")\n",
    "        return -1\n",
    "    \n",
    "    print(f\"Image label: {y[k]}\")\n",
    "    plt.imshow(np.reshape(X[k], (8, 8)), cmap='gray')"
   ]
  },
  {
   "cell_type": "code",
   "execution_count": 29,
   "metadata": {
    "scrolled": true
   },
   "outputs": [
    {
     "name": "stdout",
     "output_type": "stream",
     "text": [
      "Image label: 1\n"
     ]
    },
    {
     "data": {
      "image/png": "[encoded data removed]",
      "text/plain": [
       "<Figure size 432x288 with 1 Axes>"
      ]
     },
     "metadata": {
      "needs_background": "light"
     },
     "output_type": "display_data"
    }
   ],
   "source": [
    "# try some different values of k\n",
    "k = 42 \n",
    "visualize_digit(X, y, k)"
   ]
  },
  {
   "cell_type": "markdown",
   "metadata": {},
   "source": [
    "## Part (a): Implement $k$-means\n",
    "\n",
    "Implement $k$-means from scratch (you are permitted to use any numpy routines you'd like) by filling out the function `kmeans()` below. You are welcome to shuffle the code around as you please; this is only a starting point. You are also welcome and encouraged to write helper functions."
   ]
  },
  {
   "cell_type": "code",
   "execution_count": 37,
   "metadata": {},
   "outputs": [],
   "source": [
    "import random\n",
    "from random import randrange\n",
    "\n",
    "def kmeans(X, k):\n",
    "    '''\n",
    "    implement k-means\n",
    "    INPUT:\n",
    "        X: numpy array of shape (N,d), where n is number of data\n",
    "            points and d is dimension (d = 64 in our case)\n",
    "        k: desired number of clusters\n",
    "    OUTPUT:\n",
    "        m: numpy array of shape (k,) of cluster centers\n",
    "        gamma: numpy array of shape (N,), where each entry is \n",
    "            an integer from 0 to k-1 denoting cluster membership\n",
    "        distortions: list of distortions at each iteration\n",
    "    '''\n",
    "    N, d = X.shape\n",
    "\n",
    "    distortions = [] # keep track of distortion at each step\n",
    "\n",
    "    # create m and gamma arrays\n",
    "    m = np.zeros(shape = (k, d)) # added a dimension d because centroids have d dimensions\n",
    "    gamma = np.zeros(shape = N)\n",
    "\n",
    "    ''' debug '''\n",
    "    label = np.zeros(shape = k)\n",
    "    ''' debug '''\n",
    "    \n",
    "    for i in range(k):\n",
    "        index = randrange(N)\n",
    "        m[i] = X[index]\n",
    "        \n",
    "        label[i] = y[index]\n",
    "        \n",
    "    ''' debug '''\n",
    "    plt.figure(figsize=(15, 6))\n",
    "    for i in range(len(m)):\n",
    "        plt.subplot(2, 5, i + 1)\n",
    "        plt.imshow(np.reshape(m[i], (8, 8)), cmap='gray')\n",
    "        plt.title(f\"Label - {int(label[i])}\")\n",
    "        plt.axis(\"off\")\n",
    "    plt.show()\n",
    "    ''' debug '''\n",
    "    \n",
    "    loop = 0;\n",
    "    iteration = 0\n",
    "    while (len(distortions) < 2 or distortions[-2] != distortions[-1]): \n",
    "        # your code here..., while distortion isn't converged\n",
    "        for i in range(N):\n",
    "            data_point = X[i]\n",
    "            smallest_distance = 1000000000\n",
    "            \n",
    "            for j in range(len(m)):\n",
    "                dist = distance(m[j], data_point, 2)\n",
    "                \n",
    "                if (dist < smallest_distance):\n",
    "                    smallest_distance = dist\n",
    "                    cluster_assignment = j\n",
    "                    \n",
    "            gamma[i] = int(cluster_assignment)\n",
    "        \n",
    "        m = np.zeros((k, d)) # reset m\n",
    "        counter = np.zeros(k)\n",
    "        \n",
    "        for i in range(N):\n",
    "            cluster_assignment = int(gamma[i])\n",
    "            data_point = X[i]\n",
    "            m[cluster_assignment] += data_point # ??\n",
    "            ''' debug '''\n",
    "            if loop < 10 and cluster_assignment == 0:\n",
    "                plt.figure(figsize=(15, 6))\n",
    "                plt.imshow(np.reshape(X[i], (8, 8)), cmap='gray')\n",
    "                plt.imshow(np.reshape(m[cluster_assignment], (8,8)), cmap='gray')\n",
    "                plt.axis(\"off\")\n",
    "                plt.show()\n",
    "                loop += 1\n",
    "            ''' debug '''\n",
    "            counter[cluster_assignment] += 1\n",
    "            \n",
    "        for i in range(k):\n",
    "            if (counter[i] == 0): \n",
    "                continue\n",
    "            m[i] /= counter[i] # ??\n",
    "            \n",
    "        distortion = 0\n",
    "        for i in range(N):\n",
    "            data_point = X[i]\n",
    "            cluster_assignment = int(gamma[i])\n",
    "            distortion += distance(data_point, m[cluster_assignment], 2) ** 2 # take to the power of 2 to counteract the square root\n",
    "        distortions.append(distortion)\n",
    "        \n",
    "        iteration += 1\n",
    "    \n",
    "    print(f\"TOTAL ITERATIONS RUN: {iteration}\")\n",
    "    \n",
    "    return m, gamma, distortions"
   ]
  },
  {
   "cell_type": "markdown",
   "metadata": {},
   "source": [
    "## Part (b); Run on MNIST\n",
    "\n",
    "We will now try running `kmeans()` on the MNIST dataset. Since the MNIST dataset consists of 10 different possible digits, it makes sense to try to classify them into $k = 10$ different clusters. If we think about the center of each cluster as a \"representative\" of the other points in that cluster, we can try plotting the resultant cluster centers and seeing if they look like numbers.\n",
    "\n",
    "Run `kmeans()` on the MNIST data and plot the cluster centers. Do they look like digits? Remember that your centers will be arrays of shape `(64,)`. You will have to reshape them into arrays of shape `(8,8)` using `np.reshape()`, then plot them using `plt.imshow()` (see the last line of the function `visualize_digit` written above)."
   ]
  },
  {
   "cell_type": "code",
   "execution_count": 38,
   "metadata": {
    "scrolled": false
   },
   "outputs": [
    {
     "data": {
      "image/png": "[encoded data removed]",
      "text/plain": [
       "<Figure size 1080x432 with 10 Axes>"
      ]
     },
     "metadata": {
      "needs_background": "light"
     },
     "output_type": "display_data"
    },
    {
     "data": {
      "image/png": "[encoded data removed]",
      "text/plain": [
       "<Figure size 1080x432 with 1 Axes>"
      ]
     },
     "metadata": {
      "needs_background": "light"
     },
     "output_type": "display_data"
    },
    {
     "data": {
      "image/png": "[encoded data removed]",
      "text/plain": [
       "<Figure size 1080x432 with 1 Axes>"
      ]
     },
     "metadata": {
      "needs_background": "light"
     },
     "output_type": "display_data"
    },
    {
     "data": {
      "image/png": "[encoded data removed]",
      "text/plain": [
       "<Figure size 1080x432 with 1 Axes>"
      ]
     },
     "metadata": {
      "needs_background": "light"
     },
     "output_type": "display_data"
    },
    {
     "data": {
      "image/png": "[encoded data removed]",
      "text/plain": [
       "<Figure size 1080x432 with 1 Axes>"
      ]
     },
     "metadata": {
      "needs_background": "light"
     },
     "output_type": "display_data"
    },
    {
     "data": {
      "image/png": "[encoded data removed]",
      "text/plain": [
       "<Figure size 1080x432 with 1 Axes>"
      ]
     },
     "metadata": {
      "needs_background": "light"
     },
     "output_type": "display_data"
    },
    {
     "data": {
      "image/png": "[encoded data removed]",
      "text/plain": [
       "<Figure size 1080x432 with 1 Axes>"
      ]
     },
     "metadata": {
      "needs_background": "light"
     },
     "output_type": "display_data"
    },
    {
     "data": {
      "image/png": "[encoded data removed]",
      "text/plain": [
       "<Figure size 1080x432 with 1 Axes>"
      ]
     },
     "metadata": {
      "needs_background": "light"
     },
     "output_type": "display_data"
    },
    {
     "data": {
      "image/png": "[encoded data removed]",
      "text/plain": [
       "<Figure size 1080x432 with 1 Axes>"
      ]
     },
     "metadata": {
      "needs_background": "light"
     },
     "output_type": "display_data"
    },
    {
     "data": {
      "image/png": "[encoded data removed]",
      "text/plain": [
       "<Figure size 1080x432 with 1 Axes>"
      ]
     },
     "metadata": {
      "needs_background": "light"
     },
     "output_type": "display_data"
    },
    {
     "data": {
      "image/png": "[encoded data removed]",
      "text/plain": [
       "<Figure size 1080x432 with 1 Axes>"
      ]
     },
     "metadata": {
      "needs_background": "light"
     },
     "output_type": "display_data"
    },
    {
     "name": "stdout",
     "output_type": "stream",
     "text": [
      "TOTAL ITERATIONS RUN: 16\n"
     ]
    },
    {
     "data": {
      "image/png": "[encoded data removed]",
      "text/plain": [
       "<Figure size 1080x432 with 10 Axes>"
      ]
     },
     "metadata": {
      "needs_background": "light"
     },
     "output_type": "display_data"
    }
   ],
   "source": [
    "# your code here...\n",
    "m, gamma, distortions = kmeans(X, 10)\n",
    "\n",
    "plt.figure(figsize=(15, 6))\n",
    "for i in range(len(m)):\n",
    "    plt.subplot(2, 5, i + 1)\n",
    "    plt.imshow(np.reshape(m[i], (8, 8)), cmap='gray')\n",
    "    plt.axis(\"off\")\n",
    "plt.show()"
   ]
  },
  {
   "cell_type": "code",
   "execution_count": 0,
   "metadata": {},
   "outputs": [],
   "source": []
  },
  {
   "cell_type": "code",
   "execution_count": 0,
   "metadata": {},
   "outputs": [],
   "source": []
  }
 ],
 "metadata": {
  "kernelspec": {
   "display_name": "Python 3",
   "language": "python",
   "name": "python3"
  },
  "language_info": {
   "codemirror_mode": {
    "name": "ipython",
    "version": 3
   },
   "file_extension": ".py",
   "mimetype": "text/x-python",
   "name": "python",
   "nbconvert_exporter": "python",
   "pygments_lexer": "ipython3",
   "version": "3.8.8"
  }
 },
 "nbformat": 4,
 "nbformat_minor": 4
}

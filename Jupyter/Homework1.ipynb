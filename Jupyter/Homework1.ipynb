{
 "cells": [
  {
   "cell_type": "code",
   "execution_count": 1,
   "metadata": {},
   "outputs": [],
   "source": [
    "import pandas as pd\n",
    "import numpy as np\n",
    "\n",
    "%matplotlib inline\n",
    "from matplotlib import pyplot as plt\n",
    "import seaborn as sns\n",
    "sns.set()"
   ]
  },
  {
   "cell_type": "markdown",
   "metadata": {},
   "source": [
    "# Homework 1 - Linear Regression\n",
    "\n",
    "Please complete these exercises in addition to those outlined in the course notes.\n",
    "\n",
    "\n",
    "### Exercise 1.22 - Implement simple linear regression\n",
    "The goal of this exercise is to walk you through the process of implementing linear regression yourself from scratch in Python. We have provided skeleton code for you that you should fill out. \n",
    "**Get data into a numpy array, compute $a^*$ and $b^*$ with closed form solution, compare with built in solution, plot points and line.**\n",
    "\n",
    "Recap: we want to find $a$ and $b$ so that the loss function $Q(a,b) = \\sum_{i=1}^N (y_i - ax_i - b)^2$ is minimized. You have shown earlier in this assignment that $Q(a,b)$ is minimized when \n",
    "$$a^* = \\frac{\\sum_{i=1}^n (x_i - \\bar{x})(y_i - \\bar{y})}{\\sum_{i=1}^n (x_i - \\bar{x})^2} \n",
    "\\quad \\text{and} \\quad b^* = \\bar{y} - a^* \\bar{x}$$\n",
    "\n",
    "\n",
    "#### (a) Compute regression parameters\n",
    "Below is the skeleton of a function called `regression_parameters` which takes, as inputs, two arrays: `x` and `y`. Fill in the function with expressions that compute the values for $a^*$ and $b^*$ above. Then, test your function in the cell below, which generates some *simulated* data that fits a specific linear model. Your function is likely working well if the output is close ($\\pm 0.2$) to the true values of $a=5$ and $b=2$."
   ]
  },
  {
   "cell_type": "code",
   "execution_count": 2,
   "metadata": {},
   "outputs": [],
   "source": [
    "def regression_parameters(x,y):\n",
    "    '''\n",
    "    Computs the optimal parameters for simple linear regression\n",
    "    Inputs:\n",
    "        x: a numpy array of the dependent variable\n",
    "        y: a numpy array of the independent variable\n",
    "    Returns:\n",
    "        List of optimal regression parameters\n",
    "    '''\n",
    "    xmean = np.mean(x)\n",
    "    ymean = np.mean(y)\n",
    "    \n",
    "    a_star = ((x - xmean) * (y - ymean)).sum() / ((x - xmean)**2).sum()\n",
    "    b_star = ymean - (a_star * xmean)\n",
    "    \n",
    "    return [a_star, b_star]"
   ]
  },
  {
   "cell_type": "code",
   "execution_count": 3,
   "metadata": {},
   "outputs": [
    {
     "name": "stdout",
     "output_type": "stream",
     "text": [
      "[4.979236577486336, 2.01953323926068]\n"
     ]
    }
   ],
   "source": [
    "# Run this cell to generate data to test your function\n",
    "\n",
    "x = np.random.uniform(size=100) # generate x values random\n",
    "noise = np.random.normal(scale=.1, size=100) # generate noise to add to the problem\n",
    "a = 5 # set the slope\n",
    "b = 2 # set the intercept\n",
    "y = a*x + b + noise # generate y values using the model y = ax+b+noise\n",
    "[a_star, b_star] = regression_parameters(x, y) # call your function!\n",
    "\n",
    "print([a_star, b_star])"
   ]
  },
  {
   "cell_type": "markdown",
   "metadata": {},
   "source": [
    "#### (b) Plotting your prediction\n",
    "\n",
    "\n",
    "Now that we have computed estimates of the regression parameters, we can use them to make a prediction for any values of x: \n",
    "$$\\hat{y} = a^*x + b^*$$\n",
    "Anytime you run a regression, it's very important to plot the data with the prediction to see how well the model fits. \n",
    "\n",
    "The first step to doing this is to compute the *predicted* or *fitted* value of $y$. This is the result of plugging your original values for $x$ back into the best fit line you computed. In the function called `predict`, write an expression that will return the fitted values for given paramters $a,b$ and an input array $x$.\n",
    "\n",
    "Now, compute the prediction $\\hat{y}$ and make a plot that plots the original data $(x,y)$ as a *scatterplot* with the predicted data $(x, \\hat{y})$ as a *line* on top of the scatterplot.\n",
    "\n",
    "**Hint:** It might be useful to set these plots to use different colors so it's easier to distinguish the points and the line; you can do this by adding the `color=` argument to the plotting function. See [here](https://matplotlib.org/stable/gallery/color/named_colors.html) for the list of available colors."
   ]
  },
  {
   "cell_type": "code",
   "execution_count": 4,
   "metadata": {},
   "outputs": [
    {
     "data": {
      "image/png": "[encoded data removed]",
      "text/plain": [
       "<Figure size 864x432 with 1 Axes>"
      ]
     },
     "metadata": {},
     "output_type": "display_data"
    }
   ],
   "source": [
    "def predict(a,b,x):\n",
    "    return a * x + b\n",
    "\n",
    "y_hat = predict(a_star, b_star, x) # replace with expression to make a prediction\n",
    "\n",
    "# Add plotting code here\n",
    "plt.figure(figsize=(12, 6))\n",
    "plt.plot(x, y_hat)\n",
    "plt.plot(x, y, 'ro')\n",
    "plt.title('Actual vs Predicted')\n",
    "plt.xlabel('x')\n",
    "plt.ylabel('y')\n",
    "\n",
    "plt.show()"
   ]
  },
  {
   "cell_type": "markdown",
   "metadata": {},
   "source": [
    "Based on your plot, can you identify an issues with this model? Do the residuals look ok? State the two important assumptions you make when doing linear regression (look at the \"Diagnostics\" slides from Lecture 3) and whether or not your model is in violation of either of them.\n",
    "\n",
    "[Double click this cell and replace this text with your answer]"
   ]
  },
  {
   "cell_type": "markdown",
   "metadata": {},
   "source": [
    "#### (c) Evaluate your model\n",
    "\n",
    "After computing regression parameters, we are often interested in how well the model prediction matches the actual data. A popular choice for this is using the value $R^2$, also known as the *coefficient of determination*, defined as \n",
    "\n",
    "$$R^2 = 1 - \\frac{\\sum_{i=1}^n(y_i - \\hat{y_i})^2}{\\sum_{i=1}^n(y_i - \\bar{y})^2} = 1 - \\frac{SS_{res}}{SS_{tot}}$$\n",
    "\n",
    "where $SS_{res}$ stands for the *residual sum of squares* and $SS_{tot}$ stands for the *total sum of squares*\n",
    "\n",
    "Fill in the function `r2` that takes as inputs the true $y$ value and the predicted $\\hat{y}$, and returns $R^2$. Then, compute the value of $R^2$ for the prediction you made in the previous section. Is it a good fit? Provide an interpretation for this value.\n",
    "\n",
    "[Double click this cell and replace this text with your answer]"
   ]
  },
  {
   "cell_type": "code",
   "execution_count": 5,
   "metadata": {},
   "outputs": [],
   "source": [
    "def r2(y, y_hat):\n",
    "    ymean = np.mean(y)\n",
    "    ss_res = (y - y_hat)**2\n",
    "    ss_tot = (y - ymean)**2\n",
    "    return 1 - np.sum(ss_res/ss_tot)"
   ]
  },
  {
   "cell_type": "markdown",
   "metadata": {},
   "source": [
    "#### (d) Try it all on spending/SAT data\n",
    "\n",
    "Now that we have gone through the key steps of implementing linear regression on some simulated data, let's try it on the 2019 test scores vs. student spending data we analyzed in class. Run the cell below to create a dataframe containing all the data."
   ]
  },
  {
   "cell_type": "code",
   "execution_count": 6,
   "metadata": {},
   "outputs": [
    {
     "data": {
      "text/html": [
       "<div>\n",
       "<style scoped>\n",
       "    .dataframe tbody tr th:only-of-type {\n",
       "        vertical-align: middle;\n",
       "    }\n",
       "\n",
       "    .dataframe tbody tr th {\n",
       "        vertical-align: top;\n",
       "    }\n",
       "\n",
       "    .dataframe thead th {\n",
       "        text-align: right;\n",
       "    }\n",
       "</style>\n",
       "<table border=\"1\" class=\"dataframe\">\n",
       "  <thead>\n",
       "    <tr style=\"text-align: right;\">\n",
       "      <th></th>\n",
       "      <th>avg_spending_per_student</th>\n",
       "      <th>avg_sat</th>\n",
       "    </tr>\n",
       "  </thead>\n",
       "  <tbody>\n",
       "    <tr>\n",
       "      <th>District 1</th>\n",
       "      <td>10123</td>\n",
       "      <td>1150</td>\n",
       "    </tr>\n",
       "    <tr>\n",
       "      <th>District 2</th>\n",
       "      <td>8452</td>\n",
       "      <td>1010</td>\n",
       "    </tr>\n",
       "    <tr>\n",
       "      <th>District 3</th>\n",
       "      <td>20241</td>\n",
       "      <td>1420</td>\n",
       "    </tr>\n",
       "    <tr>\n",
       "      <th>District 4</th>\n",
       "      <td>5054</td>\n",
       "      <td>950</td>\n",
       "    </tr>\n",
       "    <tr>\n",
       "      <th>District 5</th>\n",
       "      <td>4442</td>\n",
       "      <td>840</td>\n",
       "    </tr>\n",
       "    <tr>\n",
       "      <th>District 6</th>\n",
       "      <td>14522</td>\n",
       "      <td>1300</td>\n",
       "    </tr>\n",
       "  </tbody>\n",
       "</table>\n",
       "</div>"
      ],
      "text/plain": [
       "            avg_spending_per_student  avg_sat\n",
       "District 1                     10123     1150\n",
       "District 2                      8452     1010\n",
       "District 3                     20241     1420\n",
       "District 4                      5054      950\n",
       "District 5                      4442      840\n",
       "District 6                     14522     1300"
      ]
     },
     "execution_count": 6,
     "metadata": {},
     "output_type": "execute_result"
    }
   ],
   "source": [
    "data = np.array([[10123, 1150],\n",
    "                 [8452, 1010],\n",
    "                 [20241, 1420],\n",
    "                 [5054, 950],\n",
    "                 [4442, 840],\n",
    "                 [14522, 1300]])\n",
    "col1 = \"avg_spending_per_student\"\n",
    "col2 = \"avg_sat\"\n",
    "\n",
    "df = pd.DataFrame(data = data, index = [f\"District {i+1}\" for i in range(data.shape[0])],\n",
    "                 columns = [col1, col2])\n",
    "\n",
    "df"
   ]
  },
  {
   "cell_type": "markdown",
   "metadata": {},
   "source": [
    "Using this dataset, you need to\n",
    "\n",
    "- Compute the regression parameters $a^*$ and $b^*$ and **provide an interpretation for these parameters**\n",
    "- Plot the data with the predicted line superimposed on top and comment on the residuals\n",
    "- Evaluate $R^2$ for the prediction and comment\n",
    "\n",
    "Use the functions we defined earlier as needed!\n"
   ]
  },
  {
   "cell_type": "code",
   "execution_count": 9,
   "metadata": {},
   "outputs": [
    {
     "name": "stdout",
     "output_type": "stream",
     "text": [
      "[0.03565763552348768, 738.2480215861959]\n",
      "R2 is -0.9931716693336528\n"
     ]
    }
   ],
   "source": [
    "# Compute the regression parameters  𝑎∗  and  𝑏∗  and provide an interpretation for these parameters\n",
    "[a_star, b_star] = regression_parameters(df[col1], df[col2])\n",
    "print([a_star, b_star])\n",
    "\n",
    "# Plot the data with the predicted line superimposed on top and comment on the residuals\n",
    "y_hat = predict(a_star, b_star, df[col1])\n",
    "'''\n",
    "plt.figure(figsize=(12, 6))\n",
    "plt.plot(df[col1], y_hat)\n",
    "plt.plot(df[col1], df[col2], 'ro')\n",
    "plt.title('Actual vs Predicted')\n",
    "plt.xlabel('avg_spending_per_student')\n",
    "plt.ylabel('avg_sat')\n",
    "\n",
    "plt.show()\n",
    "'''\n",
    "# Evaluate  𝑅2  for the prediction and comment\n",
    "R2 = r2(df[col2], y_hat)\n",
    "print(\"R2 is\", R2)"
   ]
  },
  {
   "cell_type": "markdown",
   "metadata": {},
   "source": [
    "#### (d.1) Compare solution to scikit-learn\n",
    "\n",
    "Implementing regression by hand is a useful exercise for understanding exactly what's happening under the hood when you use other methods for running regressions (and we will be implementing lots of algorithms by hand in this class). However, in practice, you will almost always be using a function provided by a Python library to build your machine learning models. \n",
    "\n",
    "The library [scikit-learn](https://scikit-learn.org/stable/) is the standard Python machine learning library and has implementations for most machine learning methods. The following code will carry out simple linear regression using scikit-learn on the spending/SAT data; please read the comments carefully to try to understand what is going on, as you will likely want to use scikit-learn for your project."
   ]
  },
  {
   "cell_type": "code",
   "execution_count": 10,
   "metadata": {},
   "outputs": [
    {
     "name": "stdout",
     "output_type": "stream",
     "text": [
      "slope= 0.03565763552348769\n",
      "intercept= 738.2480215861958\n"
     ]
    }
   ],
   "source": [
    "from sklearn.linear_model import LinearRegression # need to import the LinearRegression library\n",
    "\n",
    "lm = LinearRegression() # initialize the model object\n",
    "x = df[['avg_spending_per_student']] # extract the independent variable (note the strange double brackets here - \n",
    "                                     # this is because scikit leran is expecting something 2D as its first argument, since typically, you use more than 1 predictor in linear regression. \n",
    "                                     # If you don't do this, you'll get an error asking you to reshape your data.)\n",
    "y = df.avg_sat # extract the dependent variable\n",
    "lm.fit(x, y) # fit the model (note that this is happening in place - you don't assign the output to anything, the `lm` object has now learned the parameters from x and y)\n",
    "print(\"slope=\", lm.coef_[0])\n",
    "print(\"intercept=\", lm.intercept_)"
   ]
  },
  {
   "cell_type": "markdown",
   "metadata": {},
   "source": [
    "Are these estimates the same as the estimates you computed by hand? (they should be - no need to do anything for this problem, just a useful thing to go through)."
   ]
  },
  {
   "cell_type": "markdown",
   "metadata": {},
   "source": [
    "#### (e) Extrapolate\n",
    "\n",
    "In order to hang the hang of linear regression, we have been using clean examples and have only made predictions on the datasets themselves. Oftentimes, we build a model because we are interested in making predictions on *new* data.\n",
    "\n",
    "Using the parameters found in the previous section, predict the average SAT score for students in districts with the following average spending (try to think of a way to build an array that will make this predicting straightforward):\n",
    "\n",
    "- \\$0\n",
    "- \\$1,000\n",
    "- \\$10,000\n",
    "- \\$20,000\n",
    "- \\$100,000"
   ]
  },
  {
   "cell_type": "code",
   "execution_count": 23,
   "metadata": {},
   "outputs": [
    {
     "name": "stdout",
     "output_type": "stream",
     "text": [
      "            avg_spending_per_student  avg_sat\n",
      "District 1                     10123     1150\n",
      "District 2                      8452     1010\n",
      "District 3                     20241     1420\n",
      "District 4                      5054      950\n",
      "District 5                      4442      840\n"
     ]
    },
    {
     "data": {
      "text/plain": [
       "Text(0, 0.5, 'pred_sat')"
      ]
     },
     "execution_count": 23,
     "metadata": {},
     "output_type": "execute_result"
    },
    {
     "data": {
      "image/png": "[encoded data removed]",
      "text/plain": [
       "<Figure size 864x432 with 1 Axes>"
      ]
     },
     "metadata": {},
     "output_type": "display_data"
    }
   ],
   "source": [
    "avg_spending = np.array([0, 1000, 10000, 20000, 100000])\n",
    "pred_sat = predict(lm.intercept_, lm.coef_[0], avg_spending)\n",
    "\n",
    "df_pred = pd.DataFrame({'avg_spending_per_student' : avg_spending, 'pred_sat' : pred_sat}, \n",
    "                       index = [f\"District {i+1}\" for i in range(avg_spending.shape[0])])\n",
    "print(df.head())\n",
    "\n",
    "plt.figure(figsize=(12, 6))\n",
    "plt.plot(avg_spending, pred_sat)\n",
    "plt.plot(avg_spending, pred_sat, 'ro')\n",
    "plt.title('Predict the average SAT score')\n",
    "plt.xlabel('avg_spending_per_student')\n",
    "plt.ylabel('pred_sat')"
   ]
  },
  {
   "cell_type": "markdown",
   "metadata": {},
   "source": [
    "\n",
    "Which of these predicted SAT scores are reasonable? Which are not? Why?\n",
    "\n",
    "[Double click this cell and replace this text with your answer]"
   ]
  },
  {
   "cell_type": "markdown",
   "metadata": {},
   "source": [
    "### Exercise 1.23 - Anscombe's quartet\n",
    "\n",
    "The file `anscombe.csv` contains four different small datasets - each dataset is indicated by the column `data` (that is, all (x,y) values associate with the same value for `data` belong to the same dataset).\n",
    "\n",
    "Run the cell below to load the data:"
   ]
  },
  {
   "cell_type": "code",
   "execution_count": 24,
   "metadata": {},
   "outputs": [
    {
     "data": {
      "text/html": [
       "<div>\n",
       "<style scoped>\n",
       "    .dataframe tbody tr th:only-of-type {\n",
       "        vertical-align: middle;\n",
       "    }\n",
       "\n",
       "    .dataframe tbody tr th {\n",
       "        vertical-align: top;\n",
       "    }\n",
       "\n",
       "    .dataframe thead th {\n",
       "        text-align: right;\n",
       "    }\n",
       "</style>\n",
       "<table border=\"1\" class=\"dataframe\">\n",
       "  <thead>\n",
       "    <tr style=\"text-align: right;\">\n",
       "      <th></th>\n",
       "      <th>x</th>\n",
       "      <th>y</th>\n",
       "      <th>data</th>\n",
       "    </tr>\n",
       "  </thead>\n",
       "  <tbody>\n",
       "    <tr>\n",
       "      <th>0</th>\n",
       "      <td>10</td>\n",
       "      <td>8.04</td>\n",
       "      <td>0</td>\n",
       "    </tr>\n",
       "    <tr>\n",
       "      <th>1</th>\n",
       "      <td>8</td>\n",
       "      <td>6.95</td>\n",
       "      <td>0</td>\n",
       "    </tr>\n",
       "    <tr>\n",
       "      <th>2</th>\n",
       "      <td>13</td>\n",
       "      <td>7.58</td>\n",
       "      <td>0</td>\n",
       "    </tr>\n",
       "    <tr>\n",
       "      <th>3</th>\n",
       "      <td>9</td>\n",
       "      <td>8.81</td>\n",
       "      <td>0</td>\n",
       "    </tr>\n",
       "    <tr>\n",
       "      <th>4</th>\n",
       "      <td>11</td>\n",
       "      <td>8.33</td>\n",
       "      <td>0</td>\n",
       "    </tr>\n",
       "  </tbody>\n",
       "</table>\n",
       "</div>"
      ],
      "text/plain": [
       "    x     y  data\n",
       "0  10  8.04     0\n",
       "1   8  6.95     0\n",
       "2  13  7.58     0\n",
       "3   9  8.81     0\n",
       "4  11  8.33     0"
      ]
     },
     "execution_count": 24,
     "metadata": {},
     "output_type": "execute_result"
    }
   ],
   "source": [
    "anscombe = pd.read_csv('anscombe.csv')\n",
    "anscombe.head()"
   ]
  },
  {
   "cell_type": "markdown",
   "metadata": {},
   "source": [
    "#### (a) Compute regression parameters for each dataset\n",
    "\n",
    "First, we want to take each dataset in this one dataframe and run a simple linear regression where the independent variable is $x$ and the dependent variable is $y$. Keep track of parameters estimated for each dataset, along with the $R^2$ value of the predicton. What do you notice?\n",
    "\n",
    "**Hint 1:** a `for` loop might be helpful here\n",
    "\n",
    "**Hint 2:** recall that you can filter a dataframe to extract only the rows that you want!"
   ]
  },
  {
   "cell_type": "code",
   "execution_count": 25,
   "metadata": {},
   "outputs": [
    {
     "name": "stdout",
     "output_type": "stream",
     "text": [
      "0       0.994766\n",
      "1       0.991491\n",
      "2    -589.099030\n",
      "3       0.000000\n",
      "4       0.957416\n",
      "5       0.999717\n",
      "6     -21.564155\n",
      "7       0.947801\n",
      "8       0.696736\n",
      "9       0.606966\n",
      "10      0.990287\n",
      "dtype: float64\n",
      "11    0.517041\n",
      "12   -2.176812\n",
      "13    0.622898\n",
      "14    0.000000\n",
      "15    0.813787\n",
      "16   -9.067862\n",
      "17    0.991133\n",
      "18    0.813432\n",
      "19    0.993721\n",
      "20   -8.928444\n",
      "21    0.924044\n",
      "dtype: float64\n",
      "22   -181.065956\n",
      "23      0.900496\n",
      "24      0.617422\n",
      "25      0.000000\n",
      "26     -3.946385\n",
      "27      0.252373\n",
      "28      0.996891\n",
      "29      0.966075\n",
      "30     -0.706769\n",
      "31      0.994438\n",
      "32      0.983274\n",
      "dtype: float64\n",
      "33     0.791008\n",
      "34     0.491851\n",
      "35   -10.497996\n",
      "36    -0.886007\n",
      "37    -1.297812\n",
      "38     0.992840\n",
      "39     0.394859\n",
      "40     1.000000\n",
      "41     0.448789\n",
      "42    -3.937284\n",
      "43     0.966986\n",
      "dtype: float64\n",
      "      slope  intercept\n",
      "0  3.000091   0.500091\n",
      "1  3.000909   0.500000\n",
      "2  3.002455   0.499727\n",
      "3  3.001727   0.499909\n"
     ]
    }
   ],
   "source": [
    "column_names = ['slope', 'intercept']\n",
    "df_data = pd.DataFrame(columns = column_names)\n",
    "\n",
    "for i in range(4):\n",
    "    data = anscombe[anscombe['data']==i]\n",
    "        \n",
    "    [a_star, b_star] = regression_parameters(data['x'], data['y'])\n",
    "    y_hat = predict(a_star, b_star, data['x'])\n",
    "    R2 = r2(data['y'], y_hat)\n",
    "    print(R2)\n",
    "    \n",
    "    df_data.loc[len(df_data.index)] = [b_star, a_star]\n",
    "    \n",
    "print(df_data)"
   ]
  },
  {
   "cell_type": "markdown",
   "metadata": {},
   "source": [
    "#### (b) Plot the datasets\n",
    "\n",
    "Now, plot each of the 4 datasets (if you are using a `for` loop, you can get plots to show up at each iteration by calling `plt.show()` after you've generated the plot). What do you notice? How does this make you feel about the results from part (a)?\n",
    "\n",
    "\n",
    "[Double click this cell and replace this text with your answer]"
   ]
  },
  {
   "cell_type": "code",
   "execution_count": 26,
   "metadata": {},
   "outputs": [
    {
     "data": {
      "image/png": "[encoded data removed]",
      "text/plain": [
       "<Figure size 864x432 with 1 Axes>"
      ]
     },
     "metadata": {},
     "output_type": "display_data"
    },
    {
     "data": {
      "image/png": "[encoded data removed]",
      "text/plain": [
       "<Figure size 864x432 with 1 Axes>"
      ]
     },
     "metadata": {},
     "output_type": "display_data"
    },
    {
     "data": {
      "image/png": "[encoded data removed]",
      "text/plain": [
       "<Figure size 864x432 with 1 Axes>"
      ]
     },
     "metadata": {},
     "output_type": "display_data"
    },
    {
     "data": {
      "image/png": "[encoded data removed]",
      "text/plain": [
       "<Figure size 864x432 with 1 Axes>"
      ]
     },
     "metadata": {},
     "output_type": "display_data"
    }
   ],
   "source": [
    "for i in range(4):\n",
    "    data = anscombe[anscombe['data']==i]\n",
    "        \n",
    "    [a_star, b_star] = regression_parameters(data['x'], data['y'])\n",
    "    y_hat = predict(a_star, b_star, data['x'])\n",
    "\n",
    "    plt.figure(figsize=(12, 6))\n",
    "    plt.plot(data['x'], y_hat)\n",
    "    plt.plot(data['x'], data['y'], 'ro')\n",
    "    plt.title(f'Data {i} - Actual vs Predicted')\n",
    "    plt.xlabel('x')\n",
    "    plt.ylabel('y')\n",
    "    plt.show()"
   ]
  },
  {
   "cell_type": "markdown",
   "metadata": {},
   "source": [
    "#### (C) Pick a model\n",
    "Which, if any, of the datasets does the model fit best? Why?\n",
    "\n",
    "[Double click this cell and replace this text with your answer]"
   ]
  },
  {
   "cell_type": "code",
   "execution_count": null,
   "metadata": {},
   "outputs": [],
   "source": []
  }
 ],
 "metadata": {
  "kernelspec": {
   "display_name": "Python 3",
   "language": "python",
   "name": "python3"
  },
  "language_info": {
   "codemirror_mode": {
    "name": "ipython",
    "version": 3
   },
   "file_extension": ".py",
   "mimetype": "text/x-python",
   "name": "python",
   "nbconvert_exporter": "python",
   "pygments_lexer": "ipython3",
   "version": "3.8.8"
  }
 },
 "nbformat": 4,
 "nbformat_minor": 4
}

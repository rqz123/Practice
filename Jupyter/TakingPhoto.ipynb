{
 "cells": [
  {
   "cell_type": "code",
   "execution_count": 3,
   "id": "ebaf1369",
   "metadata": {
    "tags": []
   },
   "outputs": [
    {
     "output_type": "stream",
     "name": "stdout",
     "text": [
      "c:\\Users\\rzhang\\OneDrive\\Work\\Jupyter\n",
      "c:\\Users\\rzhang\\OneDrive\\Work\\Jupyter\\20210615-110558.jpg\n"
     ]
    }
   ],
   "source": [
    "import cv2\n",
    "import os\n",
    "import datetime\n",
    "\n",
    "home_dir = os.getcwd()\n",
    "print(home_dir)\n",
    "\n",
    "key = cv2. waitKey(1)\n",
    "webcam = cv2.VideoCapture(0)\n",
    "while True:\n",
    "    try:\n",
    "        check, frame = webcam.read()\n",
    "        #print(check) #prints true as long as the webcam is running\n",
    "        #print(frame) #prints matrix values of each framecd \n",
    "        cv2.imshow(\"Capturing\", frame)\n",
    "        key = cv2.waitKey(1)\n",
    "        \n",
    "        if key == ord('s'): \n",
    "            export_file = os.path.join(home_dir, '{}.jpg').format(datetime.datetime.now().strftime(\"%Y%m%d-%H%M%S\"))\n",
    "\n",
    "            cv2.imwrite(filename=export_file, img=frame)\n",
    "            print(export_file)\n",
    "\n",
    "            webcam.release()\n",
    "            img_new = cv2.imread(export_file, cv2.IMREAD_GRAYSCALE)\n",
    "            img_new = cv2.imshow(\"Captured Image\", img_new)\n",
    "            cv2.waitKey(1000)\n",
    "            cv2.destroyAllWindows()\n",
    "            '''\n",
    "            print(\"Processing image...\")\n",
    "            img_ = cv2.imread('saved_img.jpg', cv2.IMREAD_ANYCOLOR)\n",
    "            print(\"Converting RGB image to grayscale...\")\n",
    "            gray = cv2.cvtColor(img_, cv2.COLOR_BGR2GRAY)\n",
    "            print(\"Converted RGB image to grayscale...\")\n",
    "            print(\"Resizing image to 28x28 scale...\")\n",
    "            img_ = cv2.resize(gray,(28,28))\n",
    "            print(\"Resized...\")\n",
    "            img_resized = cv2.imwrite(filename='saved_img-final.jpg', img=img_)\n",
    "            print(\"Image saved!\")\n",
    "            '''\n",
    "            break\n",
    "        elif key == ord('q'):\n",
    "            print(\"Turning off camera.\")\n",
    "            webcam.release()\n",
    "            print(\"Camera off.\")\n",
    "            print(\"Program ended.\")\n",
    "            cv2.destroyAllWindows()\n",
    "            break\n",
    "        \n",
    "    except(KeyboardInterrupt):\n",
    "        print(\"Turning off camera.\")\n",
    "        webcam.release()\n",
    "        print(\"Camera off.\")\n",
    "        print(\"Program ended.\")\n",
    "        cv2.destroyAllWindows()\n",
    "        break"
   ]
  },
  {
   "cell_type": "code",
   "execution_count": null,
   "id": "7e61b798",
   "metadata": {},
   "outputs": [],
   "source": []
  }
 ],
 "metadata": {
  "kernelspec": {
   "name": "python388jvsc74a57bd07176f4f4a11bd8f9258893cace51389d516eea437cc0151c1cab77fa1dd41c83",
   "display_name": "Python 3.8.8 64-bit ('base': conda)"
  },
  "language_info": {
   "codemirror_mode": {
    "name": "ipython",
    "version": 3
   },
   "file_extension": ".py",
   "mimetype": "text/x-python",
   "name": "python",
   "nbconvert_exporter": "python",
   "pygments_lexer": "ipython3",
   "version": "3.8.8"
  }
 },
 "nbformat": 4,
 "nbformat_minor": 5
}